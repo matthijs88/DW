{
 "cells": [
  {
   "cell_type": "markdown",
   "metadata": {},
   "source": [
    "# Data Wrangling - Spotify Top 50"
   ]
  },
  {
   "cell_type": "markdown",
   "metadata": {},
   "source": [
    "### Introduction\n",
    "In this project we will look at multiple questions regarding the Top 50 Spotify songs. For this we will look at the sentiment of the lyrics and combine this data with other datasets to hopefully derive some interesting conclusions. Every section in this notebok represents a research question regarding this topic.\n",
    "\n",
    "Group members of this project:\n",
    "<ul>\n",
    "    <li>Luuk Kaandorp (2623537)</li>\n",
    "    <li>Lucas de Geus</li>\n",
    "    <li>Ward Pennink</li>\n",
    "    <li>Matthijs Blaauw</li>\n",
    "</ul>"
   ]
  },
  {
   "cell_type": "markdown",
   "metadata": {},
   "source": [
    "### Import\n",
    "This section imports every function and package used in the following sections, please run this before running all others."
   ]
  },
  {
   "cell_type": "code",
   "execution_count": 1,
   "metadata": {
    "scrolled": true
   },
   "outputs": [
    {
     "name": "stderr",
     "output_type": "stream",
     "text": [
      "[nltk_data] Downloading package vader_lexicon to\n",
      "[nltk_data]     C:\\Users\\lucas\\AppData\\Roaming\\nltk_data...\n",
      "[nltk_data]   Package vader_lexicon is already up-to-date!\n"
     ]
    }
   ],
   "source": [
    "# read neccessary libraries for pandas\n",
    "import numpy as np\n",
    "import pandas as pd\n",
    "import matplotlib.pyplot as plt\n",
    "pd.options.display.max_rows = 20\n",
    "np.set_printoptions(precision = 4, suppress = True)\n",
    "\n",
    "# read neccessary libraries for getting the lyrics\n",
    "import requests\n",
    "from bs4 import BeautifulSoup\n",
    "\n",
    "# read neccessary libraries for sentiment analysis (see cell below for acknowledgement)\n",
    "import nltk\n",
    "nltk.download('vader_lexicon')\n",
    "from nltk.sentiment.vader import SentimentIntensityAnalyzer\n",
    "\n",
    "# read neccessary libraries for text pre-processing\n",
    "import string\n",
    "\n",
    "# read neccessary libraries for language detection\n",
    "from langdetect import detect"
   ]
  },
  {
   "cell_type": "markdown",
   "metadata": {},
   "source": [
    "### Acknowledgement\n",
    "Hutto, C.J. & Gilbert, E.E. (2014). VADER: A Parsimonious Rule-based Model for Sentiment Analysis of Social Media Text. Eighth International Conference on Weblogs and Social Media (ICWSM-14). Ann Arbor, MI, June 2014."
   ]
  },
  {
   "cell_type": "markdown",
   "metadata": {},
   "source": [
    "### Q1: Proportion of songs with positive sentiment compared to songs with negative sentiment in the Top 50"
   ]
  },
  {
   "cell_type": "markdown",
   "metadata": {},
   "source": [
    "This question tries to answer whether there are more songs with a positive sentiment in the Top 50 than songs with a negative sentiment. We will first show how our analyses and functions work by looking at our first week. Later we will analyse 6 weeks of the year 2019 so we can make a conclusion. In the code field below we start by getting the weekly Top 50 from the US on Spotify in the week of 1-11-2019 to 8-11-2019. "
   ]
  },
  {
   "cell_type": "code",
   "execution_count": 2,
   "metadata": {},
   "outputs": [
    {
     "data": {
      "text/html": [
       "<div>\n",
       "<style scoped>\n",
       "    .dataframe tbody tr th:only-of-type {\n",
       "        vertical-align: middle;\n",
       "    }\n",
       "\n",
       "    .dataframe tbody tr th {\n",
       "        vertical-align: top;\n",
       "    }\n",
       "\n",
       "    .dataframe thead th {\n",
       "        text-align: right;\n",
       "    }\n",
       "</style>\n",
       "<table border=\"1\" class=\"dataframe\">\n",
       "  <thead>\n",
       "    <tr style=\"text-align: right;\">\n",
       "      <th></th>\n",
       "      <th>Position</th>\n",
       "      <th>Track Name</th>\n",
       "      <th>Artist</th>\n",
       "      <th>Streams</th>\n",
       "      <th>URL</th>\n",
       "    </tr>\n",
       "  </thead>\n",
       "  <tbody>\n",
       "    <tr>\n",
       "      <th>0</th>\n",
       "      <td>1</td>\n",
       "      <td>HIGHEST IN THE ROOM</td>\n",
       "      <td>Travis Scott</td>\n",
       "      <td>9395208</td>\n",
       "      <td>https://open.spotify.com/track/3eekarcy7kvN4yt...</td>\n",
       "    </tr>\n",
       "    <tr>\n",
       "      <th>1</th>\n",
       "      <td>2</td>\n",
       "      <td>Circles</td>\n",
       "      <td>Post Malone</td>\n",
       "      <td>9248356</td>\n",
       "      <td>https://open.spotify.com/track/21jGcNKet2qwijl...</td>\n",
       "    </tr>\n",
       "    <tr>\n",
       "      <th>2</th>\n",
       "      <td>3</td>\n",
       "      <td>Lose You To Love Me</td>\n",
       "      <td>Selena Gomez</td>\n",
       "      <td>8918735</td>\n",
       "      <td>https://open.spotify.com/track/1HfMVBKM75vxSfs...</td>\n",
       "    </tr>\n",
       "    <tr>\n",
       "      <th>3</th>\n",
       "      <td>4</td>\n",
       "      <td>Bandit (with YoungBoy Never Broke Again)</td>\n",
       "      <td>Juice WRLD</td>\n",
       "      <td>8522651</td>\n",
       "      <td>https://open.spotify.com/track/6Gg1gjgKi2AK4e0...</td>\n",
       "    </tr>\n",
       "    <tr>\n",
       "      <th>4</th>\n",
       "      <td>5</td>\n",
       "      <td>ROXANNE</td>\n",
       "      <td>Arizona Zervas</td>\n",
       "      <td>8252346</td>\n",
       "      <td>https://open.spotify.com/track/1ZPWWSwCkxKfqdp...</td>\n",
       "    </tr>\n",
       "    <tr>\n",
       "      <th>...</th>\n",
       "      <td>...</td>\n",
       "      <td>...</td>\n",
       "      <td>...</td>\n",
       "      <td>...</td>\n",
       "      <td>...</td>\n",
       "    </tr>\n",
       "    <tr>\n",
       "      <th>45</th>\n",
       "      <td>46</td>\n",
       "      <td>On God</td>\n",
       "      <td>Kanye West</td>\n",
       "      <td>3256548</td>\n",
       "      <td>https://open.spotify.com/track/2SasoXZyv82yYgH...</td>\n",
       "    </tr>\n",
       "    <tr>\n",
       "      <th>46</th>\n",
       "      <td>47</td>\n",
       "      <td>Bad Bad Bad (feat. Lil Baby)</td>\n",
       "      <td>Young Thug</td>\n",
       "      <td>3249963</td>\n",
       "      <td>https://open.spotify.com/track/1GeNui6m825V8jP...</td>\n",
       "    </tr>\n",
       "    <tr>\n",
       "      <th>47</th>\n",
       "      <td>48</td>\n",
       "      <td>Graveyard</td>\n",
       "      <td>Halsey</td>\n",
       "      <td>3209662</td>\n",
       "      <td>https://open.spotify.com/track/6V9fHiv84WlVTg7...</td>\n",
       "    </tr>\n",
       "    <tr>\n",
       "      <th>48</th>\n",
       "      <td>49</td>\n",
       "      <td>Did It Again</td>\n",
       "      <td>Lil Tecca</td>\n",
       "      <td>3207435</td>\n",
       "      <td>https://open.spotify.com/track/4guBZjUyrGoHsTa...</td>\n",
       "    </tr>\n",
       "    <tr>\n",
       "      <th>49</th>\n",
       "      <td>50</td>\n",
       "      <td>VALENTINO</td>\n",
       "      <td>24kGoldn</td>\n",
       "      <td>3186913</td>\n",
       "      <td>https://open.spotify.com/track/0c7K73roy6RW4eb...</td>\n",
       "    </tr>\n",
       "  </tbody>\n",
       "</table>\n",
       "<p>50 rows × 5 columns</p>\n",
       "</div>"
      ],
      "text/plain": [
       "    Position                                Track Name          Artist  \\\n",
       "0          1                       HIGHEST IN THE ROOM    Travis Scott   \n",
       "1          2                                   Circles     Post Malone   \n",
       "2          3                       Lose You To Love Me    Selena Gomez   \n",
       "3          4  Bandit (with YoungBoy Never Broke Again)      Juice WRLD   \n",
       "4          5                                   ROXANNE  Arizona Zervas   \n",
       "..       ...                                       ...             ...   \n",
       "45        46                                    On God      Kanye West   \n",
       "46        47              Bad Bad Bad (feat. Lil Baby)      Young Thug   \n",
       "47        48                                 Graveyard          Halsey   \n",
       "48        49                              Did It Again       Lil Tecca   \n",
       "49        50                                 VALENTINO        24kGoldn   \n",
       "\n",
       "    Streams                                                URL  \n",
       "0   9395208  https://open.spotify.com/track/3eekarcy7kvN4yt...  \n",
       "1   9248356  https://open.spotify.com/track/21jGcNKet2qwijl...  \n",
       "2   8918735  https://open.spotify.com/track/1HfMVBKM75vxSfs...  \n",
       "3   8522651  https://open.spotify.com/track/6Gg1gjgKi2AK4e0...  \n",
       "4   8252346  https://open.spotify.com/track/1ZPWWSwCkxKfqdp...  \n",
       "..      ...                                                ...  \n",
       "45  3256548  https://open.spotify.com/track/2SasoXZyv82yYgH...  \n",
       "46  3249963  https://open.spotify.com/track/1GeNui6m825V8jP...  \n",
       "47  3209662  https://open.spotify.com/track/6V9fHiv84WlVTg7...  \n",
       "48  3207435  https://open.spotify.com/track/4guBZjUyrGoHsTa...  \n",
       "49  3186913  https://open.spotify.com/track/0c7K73roy6RW4eb...  \n",
       "\n",
       "[50 rows x 5 columns]"
      ]
     },
     "execution_count": 2,
     "metadata": {},
     "output_type": "execute_result"
    }
   ],
   "source": [
    "# this reads in the Spotify first Top 50 of the US\n",
    "first_top50_file = \"q1_data/regional-us-weekly-2019-11-01--2019-11-08.csv\"\n",
    "first_top50 = pd.read_csv(first_top50_file, header=1)\n",
    "first_top50 = pd.DataFrame(first_top50.head(50))\n",
    "first_top50"
   ]
  },
  {
   "cell_type": "markdown",
   "metadata": {},
   "source": [
    "Now we got the songs we need, we need to establish a function which gets the lyrics for the given song. We use the Genius API to get the lyrics. We also need a function which processes the result. The last function we need is the one that scrapes the lyrics from the html page we get from the request. The below code section contains these functions and demonstrates their working."
   ]
  },
  {
   "cell_type": "code",
   "execution_count": 3,
   "metadata": {},
   "outputs": [
    {
     "data": {
      "text/plain": [
       "'  Intro Oh oh oh Oh  oh oh Oh  oh oh oh oh  Verse 1 We couldnt turn around til we were upside down Ill be the bad guy now but know I aint too proud I  couldnt be there even when I tried You  dont believe it we do this every time  Chorus Seasons change and our love went cold Feed  the flame cause we cant let go Run away but were running in circles Run away run away I dare you to do something Im  waiting on you again so I dont take the blame Run away but were running in circles Run away run away run away  Verse 2 Let go I got a feeling that its time to let go I said so I knew that this was doomed from the getgo You thought that it was special special But it was just the sex though the sex though And I still hear the echoes The echoes I got a feeling that its time to let it go let it go  Chorus Seasons change and our love went cold Feed the flame cause we cant let go Run away but were running in circles Run away run away I dare you to do something Im waiting on you again so I dont take the blame Run away but were running in circles Run away run away run away  Bridge Maybe you dont understand what Im going through Its only me what you got to lose Make up your mind tell me what are you gonna do Its only me let it go  Chorus Seasons change and our love went cold Feed the flame cause we cant let go Run away but were running in circles Run away run away I dare you to do something Im waiting on you again so I dont take the blame Run away but were running in circles Run away run away run away  '"
      ]
     },
     "execution_count": 3,
     "metadata": {},
     "output_type": "execute_result"
    }
   ],
   "source": [
    "# this function requests the song info based on the artist and song title\n",
    "def request_song_info(song_title, artist_name):\n",
    "    base_url = 'https://api.genius.com'\n",
    "    headers = {'Authorization': 'Bearer ' + '2wN0egWOzQ-_KQDN4XkblxZoUjG2H_Zl-xq3uXNJhVFNaIkaM0QfvSWM4pm3fWhw'}\n",
    "    search_url = base_url + '/search'\n",
    "    data = {'q': song_title + ' ' + artist_name}\n",
    "    response = requests.get(search_url, data=data, headers=headers)\n",
    "\n",
    "    return response\n",
    "\n",
    "# this function processes the result of the info request\n",
    "def process_request(response, artist_name):\n",
    "    json = response.json()\n",
    "    remote_song_info = None\n",
    "\n",
    "    for hit in json['response']['hits']:\n",
    "        if artist_name.lower() in hit['result']['primary_artist']['name'].lower():\n",
    "            remote_song_info = hit\n",
    "            break\n",
    "            \n",
    "    if remote_song_info:\n",
    "        return remote_song_info['result']['url']\n",
    "    else :\n",
    "        return \"\"\n",
    "    \n",
    "# this function scraps the lyrics from the html page\n",
    "def scrap_lyrics(url):\n",
    "    if url != \"\":\n",
    "        page = requests.get(url)\n",
    "        html = BeautifulSoup(page.text, 'html.parser')\n",
    "        lyrics = html.find('div', class_='lyrics').get_text()\n",
    "        # we detect the language of the lyrics, since the function that comes later in this document can only\n",
    "        # calculate the sentiment of english lyrics we won't process lyrics that are not english\n",
    "        if detect(lyrics) == \"en\":\n",
    "            return process_lyrics(lyrics)\n",
    "    return \"\"\n",
    "\n",
    "# this function pre-processes the lyrics\n",
    "def process_lyrics(lyrics):\n",
    "    # replace enter (\\n) with space\n",
    "    enter_removed = lyrics.replace('\\u2005', ' ').replace('\\u200a', ' ').replace('\\n', ' ')\n",
    "    \n",
    "    # remove punctuatin\n",
    "    punctuation_removed = enter_removed.translate(str.maketrans(\"\",\"\", string.punctuation)) \n",
    "    \n",
    "    return punctuation_removed\n",
    "            \n",
    "# TEST\n",
    "test_lyrics = scrap_lyrics(process_request(request_song_info('Circles', 'Post Malone'), 'Post Malone'))\n",
    "test_lyrics"
   ]
  },
  {
   "cell_type": "markdown",
   "metadata": {},
   "source": [
    "Now that we have the correct functions, we can get the lyrics for all the songs in the Top50. All we need now is a function which determines the sentiment of the lyrics. The below code section contains this function and demonstrates its working."
   ]
  },
  {
   "cell_type": "code",
   "execution_count": 4,
   "metadata": {},
   "outputs": [
    {
     "data": {
      "text/plain": [
       "{'neg': 0.049, 'neu': 0.846, 'pos': 0.104, 'compound': 0.963}"
      ]
     },
     "execution_count": 4,
     "metadata": {},
     "output_type": "execute_result"
    }
   ],
   "source": [
    "# this function calculates the sentiment of the lyrics\n",
    "def sentiment_of_lyrics(lyrics):\n",
    "    if lyrics != \"\":\n",
    "        sid = SentimentIntensityAnalyzer()\n",
    "        return sid.polarity_scores(lyrics)\n",
    "    else:\n",
    "        return False\n",
    "\n",
    "# TEST\n",
    "sentiment_of_lyrics(test_lyrics)"
   ]
  },
  {
   "cell_type": "markdown",
   "metadata": {},
   "source": [
    "We now have everything we need: the songs, the lyrics and the sentiment processor. In the following code section we have a function that creates the final table containing the songs and their sentiment and we demonstrate its working. Note that creating this table can take up to 2-3 minutes!"
   ]
  },
  {
   "cell_type": "code",
   "execution_count": 5,
   "metadata": {},
   "outputs": [
    {
     "data": {
      "text/html": [
       "<div>\n",
       "<style scoped>\n",
       "    .dataframe tbody tr th:only-of-type {\n",
       "        vertical-align: middle;\n",
       "    }\n",
       "\n",
       "    .dataframe tbody tr th {\n",
       "        vertical-align: top;\n",
       "    }\n",
       "\n",
       "    .dataframe thead th {\n",
       "        text-align: right;\n",
       "    }\n",
       "</style>\n",
       "<table border=\"1\" class=\"dataframe\">\n",
       "  <thead>\n",
       "    <tr style=\"text-align: right;\">\n",
       "      <th></th>\n",
       "      <th>Position</th>\n",
       "      <th>Track Name</th>\n",
       "      <th>Artist</th>\n",
       "      <th>Streams</th>\n",
       "      <th>URL</th>\n",
       "      <th>neg_sentiment</th>\n",
       "      <th>neu_sentiment</th>\n",
       "      <th>pos_sentiment</th>\n",
       "      <th>compound_sentiment</th>\n",
       "    </tr>\n",
       "  </thead>\n",
       "  <tbody>\n",
       "    <tr>\n",
       "      <th>0</th>\n",
       "      <td>1</td>\n",
       "      <td>HIGHEST IN THE ROOM</td>\n",
       "      <td>Travis Scott</td>\n",
       "      <td>9395208</td>\n",
       "      <td>https://open.spotify.com/track/3eekarcy7kvN4yt...</td>\n",
       "      <td>0.062</td>\n",
       "      <td>0.771</td>\n",
       "      <td>0.167</td>\n",
       "      <td>0.9897</td>\n",
       "    </tr>\n",
       "    <tr>\n",
       "      <th>1</th>\n",
       "      <td>2</td>\n",
       "      <td>Circles</td>\n",
       "      <td>Post Malone</td>\n",
       "      <td>9248356</td>\n",
       "      <td>https://open.spotify.com/track/21jGcNKet2qwijl...</td>\n",
       "      <td>0.049</td>\n",
       "      <td>0.846</td>\n",
       "      <td>0.104</td>\n",
       "      <td>0.9630</td>\n",
       "    </tr>\n",
       "    <tr>\n",
       "      <th>2</th>\n",
       "      <td>3</td>\n",
       "      <td>Lose You To Love Me</td>\n",
       "      <td>Selena Gomez</td>\n",
       "      <td>8918735</td>\n",
       "      <td>https://open.spotify.com/track/1HfMVBKM75vxSfs...</td>\n",
       "      <td>0.185</td>\n",
       "      <td>0.431</td>\n",
       "      <td>0.384</td>\n",
       "      <td>0.9993</td>\n",
       "    </tr>\n",
       "    <tr>\n",
       "      <th>3</th>\n",
       "      <td>4</td>\n",
       "      <td>Bandit (with YoungBoy Never Broke Again)</td>\n",
       "      <td>Juice WRLD</td>\n",
       "      <td>8522651</td>\n",
       "      <td>https://open.spotify.com/track/6Gg1gjgKi2AK4e0...</td>\n",
       "      <td>0.256</td>\n",
       "      <td>0.640</td>\n",
       "      <td>0.104</td>\n",
       "      <td>-0.9992</td>\n",
       "    </tr>\n",
       "    <tr>\n",
       "      <th>4</th>\n",
       "      <td>5</td>\n",
       "      <td>ROXANNE</td>\n",
       "      <td>Arizona Zervas</td>\n",
       "      <td>8252346</td>\n",
       "      <td>https://open.spotify.com/track/1ZPWWSwCkxKfqdp...</td>\n",
       "      <td>0.093</td>\n",
       "      <td>0.634</td>\n",
       "      <td>0.273</td>\n",
       "      <td>0.9979</td>\n",
       "    </tr>\n",
       "    <tr>\n",
       "      <th>...</th>\n",
       "      <td>...</td>\n",
       "      <td>...</td>\n",
       "      <td>...</td>\n",
       "      <td>...</td>\n",
       "      <td>...</td>\n",
       "      <td>...</td>\n",
       "      <td>...</td>\n",
       "      <td>...</td>\n",
       "      <td>...</td>\n",
       "    </tr>\n",
       "    <tr>\n",
       "      <th>45</th>\n",
       "      <td>46</td>\n",
       "      <td>On God</td>\n",
       "      <td>Kanye West</td>\n",
       "      <td>3256548</td>\n",
       "      <td>https://open.spotify.com/track/2SasoXZyv82yYgH...</td>\n",
       "      <td>0.059</td>\n",
       "      <td>0.779</td>\n",
       "      <td>0.163</td>\n",
       "      <td>0.9796</td>\n",
       "    </tr>\n",
       "    <tr>\n",
       "      <th>46</th>\n",
       "      <td>47</td>\n",
       "      <td>Bad Bad Bad (feat. Lil Baby)</td>\n",
       "      <td>Young Thug</td>\n",
       "      <td>3249963</td>\n",
       "      <td>https://open.spotify.com/track/1GeNui6m825V8jP...</td>\n",
       "      <td>0.308</td>\n",
       "      <td>0.648</td>\n",
       "      <td>0.043</td>\n",
       "      <td>-0.9996</td>\n",
       "    </tr>\n",
       "    <tr>\n",
       "      <th>47</th>\n",
       "      <td>48</td>\n",
       "      <td>Graveyard</td>\n",
       "      <td>Halsey</td>\n",
       "      <td>3209662</td>\n",
       "      <td>https://open.spotify.com/track/6V9fHiv84WlVTg7...</td>\n",
       "      <td>0.180</td>\n",
       "      <td>0.739</td>\n",
       "      <td>0.080</td>\n",
       "      <td>-0.9930</td>\n",
       "    </tr>\n",
       "    <tr>\n",
       "      <th>48</th>\n",
       "      <td>49</td>\n",
       "      <td>Did It Again</td>\n",
       "      <td>Lil Tecca</td>\n",
       "      <td>3207435</td>\n",
       "      <td>https://open.spotify.com/track/4guBZjUyrGoHsTa...</td>\n",
       "      <td>0.209</td>\n",
       "      <td>0.690</td>\n",
       "      <td>0.100</td>\n",
       "      <td>-0.9908</td>\n",
       "    </tr>\n",
       "    <tr>\n",
       "      <th>49</th>\n",
       "      <td>50</td>\n",
       "      <td>VALENTINO</td>\n",
       "      <td>24kGoldn</td>\n",
       "      <td>3186913</td>\n",
       "      <td>https://open.spotify.com/track/0c7K73roy6RW4eb...</td>\n",
       "      <td>0.116</td>\n",
       "      <td>0.757</td>\n",
       "      <td>0.127</td>\n",
       "      <td>0.9768</td>\n",
       "    </tr>\n",
       "  </tbody>\n",
       "</table>\n",
       "<p>50 rows × 9 columns</p>\n",
       "</div>"
      ],
      "text/plain": [
       "    Position                                Track Name          Artist  \\\n",
       "0          1                       HIGHEST IN THE ROOM    Travis Scott   \n",
       "1          2                                   Circles     Post Malone   \n",
       "2          3                       Lose You To Love Me    Selena Gomez   \n",
       "3          4  Bandit (with YoungBoy Never Broke Again)      Juice WRLD   \n",
       "4          5                                   ROXANNE  Arizona Zervas   \n",
       "..       ...                                       ...             ...   \n",
       "45        46                                    On God      Kanye West   \n",
       "46        47              Bad Bad Bad (feat. Lil Baby)      Young Thug   \n",
       "47        48                                 Graveyard          Halsey   \n",
       "48        49                              Did It Again       Lil Tecca   \n",
       "49        50                                 VALENTINO        24kGoldn   \n",
       "\n",
       "    Streams                                                URL  neg_sentiment  \\\n",
       "0   9395208  https://open.spotify.com/track/3eekarcy7kvN4yt...          0.062   \n",
       "1   9248356  https://open.spotify.com/track/21jGcNKet2qwijl...          0.049   \n",
       "2   8918735  https://open.spotify.com/track/1HfMVBKM75vxSfs...          0.185   \n",
       "3   8522651  https://open.spotify.com/track/6Gg1gjgKi2AK4e0...          0.256   \n",
       "4   8252346  https://open.spotify.com/track/1ZPWWSwCkxKfqdp...          0.093   \n",
       "..      ...                                                ...            ...   \n",
       "45  3256548  https://open.spotify.com/track/2SasoXZyv82yYgH...          0.059   \n",
       "46  3249963  https://open.spotify.com/track/1GeNui6m825V8jP...          0.308   \n",
       "47  3209662  https://open.spotify.com/track/6V9fHiv84WlVTg7...          0.180   \n",
       "48  3207435  https://open.spotify.com/track/4guBZjUyrGoHsTa...          0.209   \n",
       "49  3186913  https://open.spotify.com/track/0c7K73roy6RW4eb...          0.116   \n",
       "\n",
       "    neu_sentiment  pos_sentiment  compound_sentiment  \n",
       "0           0.771          0.167              0.9897  \n",
       "1           0.846          0.104              0.9630  \n",
       "2           0.431          0.384              0.9993  \n",
       "3           0.640          0.104             -0.9992  \n",
       "4           0.634          0.273              0.9979  \n",
       "..            ...            ...                 ...  \n",
       "45          0.779          0.163              0.9796  \n",
       "46          0.648          0.043             -0.9996  \n",
       "47          0.739          0.080             -0.9930  \n",
       "48          0.690          0.100             -0.9908  \n",
       "49          0.757          0.127              0.9768  \n",
       "\n",
       "[50 rows x 9 columns]"
      ]
     },
     "execution_count": 5,
     "metadata": {},
     "output_type": "execute_result"
    }
   ],
   "source": [
    "# calculate sentiment for all songs in a Top 50\n",
    "def sentiment_for_top50(top50):\n",
    "    for index, row in top50.iterrows():\n",
    "        sentiment = sentiment_of_lyrics(scrap_lyrics(process_request(request_song_info(row['Track Name'], row['Artist']), row['Artist'])))\n",
    "        if (sentiment != False):\n",
    "            top50.loc[index,'neg_sentiment'] = sentiment.get('neg')\n",
    "            top50.loc[index,'neu_sentiment'] = sentiment.get('neu')\n",
    "            top50.loc[index,'pos_sentiment'] = sentiment.get('pos')\n",
    "            top50.loc[index,'compound_sentiment'] = sentiment.get('compound')\n",
    "        else:\n",
    "            top50.loc[index,'neg_sentiment'] = 0\n",
    "            top50.loc[index,'neu_sentiment'] = 0\n",
    "            top50.loc[index,'pos_sentiment'] = 0\n",
    "            top50.loc[index,'compound_sentiment'] = 0\n",
    "    return top50\n",
    "\n",
    "# TEST\n",
    "processed_first_top50 = sentiment_for_top50(first_top50)\n",
    "processed_first_top50"
   ]
  },
  {
   "cell_type": "markdown",
   "metadata": {},
   "source": [
    "We now have the table containing the top 50 songs on Spotify with their corresponding sentiment based on their lyrics. We will also use this table in further sections. We will now look at the proportion of negative and positive lyrics based on their compound sentiment to answer our question. We take 0.4 as the bound for positive sentiment and -0.4 as the bound for negative sentiment."
   ]
  },
  {
   "cell_type": "code",
   "execution_count": 6,
   "metadata": {},
   "outputs": [
    {
     "name": "stdout",
     "output_type": "stream",
     "text": [
      "Songs with positive sentiment: 20\n",
      "Songs with negative sentiment: 20\n"
     ]
    }
   ],
   "source": [
    "# the number of positive sentiment lyrics\n",
    "first_top50_compound_sentiment = processed_first_top50['compound_sentiment']\n",
    "first_top50_num_positive = first_top50_compound_sentiment[first_top50_compound_sentiment > 0.4 ].count()\n",
    "\n",
    "# the number of negative sentiment lyrics\n",
    "first_top50_num_negative = first_top50_compound_sentiment[first_top50_compound_sentiment < -0.4 ].count()\n",
    "\n",
    "print(\"Songs with positive sentiment: \" + str(first_top50_num_positive))\n",
    "print(\"Songs with negative sentiment: \" + str(first_top50_num_negative))"
   ]
  },
  {
   "cell_type": "markdown",
   "metadata": {},
   "source": [
    "In order to not have to repeat the code above every time we want to compute the compound sentiment for a week's top 50, we wrap the above code in a function, called compound_sentiment. This function takes the file for which the compound sentiment needs to be calculated as parameter, and returns a tuple containing the number of songs with a positive sentiment and the number of songs with a negative sentiment. "
   ]
  },
  {
   "cell_type": "code",
   "execution_count": 7,
   "metadata": {},
   "outputs": [],
   "source": [
    "def compound_sentiment_function(file):    \n",
    "    top50 = pd.DataFrame(pd.read_csv(file, header=1).head(50))\n",
    "\n",
    "    # creates augmented top50 table with sentiment\n",
    "    processed_top50 = sentiment_for_top200(top50)\n",
    "    top50_compound_sentiment = processed_top50['compound_sentiment']\n",
    "    \n",
    "    # the number of positive sentiment lyrics    \n",
    "    top50_num_positive = top50_compound_sentiment[top50_compound_sentiment > 0.4 ].count()\n",
    "\n",
    "    # the number of negative sentiment lyrics\n",
    "    top50_num_negative = top50_compound_sentiment[top50_compound_sentiment < -0.4 ].count()\n",
    "    \n",
    "    return (top50_num_positive, top50_num_negative)"
   ]
  },
  {
   "cell_type": "markdown",
   "metadata": {},
   "source": [
    "As you can see from the result, there is only a small difference between the positive and negative sentiment. We consider this difference to be negligable. Therefore we decided to also look at 5 more random weeks to see if this holds for multiple weeks or was just coincidence. In the below code field we look at all 6 random weeks from 2019. Note that this can take up to 20 minutes to calculate!"
   ]
  },
  {
   "cell_type": "code",
   "execution_count": 8,
   "metadata": {},
   "outputs": [
    {
     "ename": "NameError",
     "evalue": "name 'sentiment_for_top200' is not defined",
     "output_type": "error",
     "traceback": [
      "\u001b[1;31m---------------------------------------------------------------------------\u001b[0m",
      "\u001b[1;31mNameError\u001b[0m                                 Traceback (most recent call last)",
      "\u001b[1;32m<ipython-input-8-84de06240317>\u001b[0m in \u001b[0;36m<module>\u001b[1;34m()\u001b[0m\n\u001b[0;32m      8\u001b[0m \u001b[1;32mfor\u001b[0m \u001b[0mfile\u001b[0m \u001b[1;32min\u001b[0m \u001b[0mfiles\u001b[0m\u001b[1;33m:\u001b[0m\u001b[1;33m\u001b[0m\u001b[0m\n\u001b[0;32m      9\u001b[0m     \u001b[1;31m# Get the sentiment from the file\u001b[0m\u001b[1;33m\u001b[0m\u001b[1;33m\u001b[0m\u001b[0m\n\u001b[1;32m---> 10\u001b[1;33m     \u001b[0mcompound_sentiment_of_week\u001b[0m \u001b[1;33m=\u001b[0m \u001b[0mcompound_sentiment_function\u001b[0m\u001b[1;33m(\u001b[0m\u001b[0mfile\u001b[0m\u001b[1;33m)\u001b[0m\u001b[1;33m\u001b[0m\u001b[0m\n\u001b[0m\u001b[0;32m     11\u001b[0m \u001b[1;33m\u001b[0m\u001b[0m\n\u001b[0;32m     12\u001b[0m     \u001b[1;31m# Add count of positive and negative sentiment to the totals\u001b[0m\u001b[1;33m\u001b[0m\u001b[1;33m\u001b[0m\u001b[0m\n",
      "\u001b[1;32m<ipython-input-7-ef3632c17e60>\u001b[0m in \u001b[0;36mcompound_sentiment_function\u001b[1;34m(file)\u001b[0m\n\u001b[0;32m      3\u001b[0m \u001b[1;33m\u001b[0m\u001b[0m\n\u001b[0;32m      4\u001b[0m     \u001b[1;31m# creates augmented top50 table with sentiment\u001b[0m\u001b[1;33m\u001b[0m\u001b[1;33m\u001b[0m\u001b[0m\n\u001b[1;32m----> 5\u001b[1;33m     \u001b[0mprocessed_top50\u001b[0m \u001b[1;33m=\u001b[0m \u001b[0msentiment_for_top200\u001b[0m\u001b[1;33m(\u001b[0m\u001b[0mtop50\u001b[0m\u001b[1;33m)\u001b[0m\u001b[1;33m\u001b[0m\u001b[0m\n\u001b[0m\u001b[0;32m      6\u001b[0m     \u001b[0mtop50_compound_sentiment\u001b[0m \u001b[1;33m=\u001b[0m \u001b[0mprocessed_top50\u001b[0m\u001b[1;33m[\u001b[0m\u001b[1;34m'compound_sentiment'\u001b[0m\u001b[1;33m]\u001b[0m\u001b[1;33m\u001b[0m\u001b[0m\n\u001b[0;32m      7\u001b[0m \u001b[1;33m\u001b[0m\u001b[0m\n",
      "\u001b[1;31mNameError\u001b[0m: name 'sentiment_for_top200' is not defined"
     ]
    }
   ],
   "source": [
    "# This for loop, loops through all 6 random weeks and prints the number of songs with negative and positive sentiment as well as\n",
    "# calculates a difference in percentages\n",
    "files = [\"q1_data/regional-us-weekly-2019-01-04--2019-01-11.csv\" , \"q1_data/regional-us-weekly-2019-03-08--2019-03-15.csv\" ,\n",
    "         \"q1_data/regional-us-weekly-2019-04-26--2019-05-03.csv\" , \"q1_data/regional-us-weekly-2019-07-05--2019-07-12.csv\" , \n",
    "         \"q1_data/regional-us-weekly-2019-08-30--2019-09-06.csv\" , \"q1_data/regional-us-weekly-2019-11-01--2019-11-08.csv\"]\n",
    "total_positive = 0\n",
    "total_negative = 0\n",
    "for file in files:\n",
    "    # Get the sentiment from the file\n",
    "    compound_sentiment_of_week = compound_sentiment_function(file)\n",
    "    \n",
    "    # Add count of positive and negative sentiment to the totals\n",
    "    total_positive += compound_sentiment_of_week[0]\n",
    "    total_negative += compound_sentiment_of_week[1]\n",
    "\n",
    "    # Print the counts of the week\n",
    "    print(\"Songs with positive sentiment: \" + str(compound_sentiment_of_week[0]))\n",
    "    print(\"Songs with negative sentiment: \" + str(compound_sentiment_of_week[1]))\n",
    "    print(\"\")"
   ]
  },
  {
   "cell_type": "markdown",
   "metadata": {},
   "source": [
    "As you can see from the output above, all 6 weeks have been calculated. In the next code field we calculate the difference in percentage."
   ]
  },
  {
   "cell_type": "code",
   "execution_count": null,
   "metadata": {},
   "outputs": [],
   "source": [
    "# we calculate the difference between positive and negative songs in percentage\n",
    "difference = ((total_positive - total_negative) / total_negative) * 100\n",
    "print(\"In the last 6 weeks, we see that there are \" + str(round(difference, 2)) + \"% more songs with positive sentiment in their lyrics in the Top50 of the US than songs with negative sentiment.\")"
   ]
  },
  {
   "cell_type": "markdown",
   "metadata": {},
   "source": [
    "Our conclusion is that it seems like there are slightly more songs with a positive sentiment than ones with negative sentiment in the Top 50 songs on Spotify in the US. This is based on 6 random weeks from 2019."
   ]
  },
  {
   "cell_type": "markdown",
   "metadata": {},
   "source": [
    "### Q2: Influence of holidays on the sentiment listened to"
   ]
  },
  {
   "cell_type": "markdown",
   "metadata": {},
   "source": [
    "This question tries to answer whether people tend to listen more to songs with a positive sentiment than songs with a negative sentiment during weeks around holidays. For this question we will look at the 2 weeks around the holidays Christmas, Easter and Thanksgiving. Because we have already looked at the Christmas period for 2019, this question looks at the holiday periods of 2018. "
   ]
  },
  {
   "cell_type": "code",
   "execution_count": null,
   "metadata": {},
   "outputs": [],
   "source": [
    "christmas2018 = compound_sentiment_function(\"regional-us-weekly-2018-12-21--2018-12-28.csv\")\n",
    "\n",
    "print(\"Songs with positive sentiment: \" + str(christmas2018[0]))\n",
    "print(\"Songs with negative sentiment: \" + str(christmas2018[1]))"
   ]
  },
  {
   "cell_type": "code",
   "execution_count": null,
   "metadata": {},
   "outputs": [],
   "source": [
    "easter2018 = compound_sentiment_function(\"regional-us-weekly-2018-03-30--2018-04-06.csv\")\n",
    "\n",
    "print(\"Songs with positive sentiment: \" + str(easter2018[0]))\n",
    "print(\"Songs with negative sentiment: \" + str(easter2018[1]))"
   ]
  },
  {
   "cell_type": "code",
   "execution_count": null,
   "metadata": {},
   "outputs": [],
   "source": [
    "thanksgiving2018 = compound_sentiment_function(\"regional-us-weekly-2018-11-16--2018-11-23.csv\")\n",
    "\n",
    "print(\"Songs with positive sentiment: \" + str(thanksgiving2018[0]))\n",
    "print(\"Songs with negative sentiment: \" + str(thanksgiving2018[1]))"
   ]
  },
  {
   "cell_type": "code",
   "execution_count": null,
   "metadata": {},
   "outputs": [],
   "source": []
  }
 ],
 "metadata": {
  "kernelspec": {
   "display_name": "Python 3",
   "language": "python",
   "name": "python3"
  },
  "language_info": {
   "codemirror_mode": {
    "name": "ipython",
    "version": 3
   },
   "file_extension": ".py",
   "mimetype": "text/x-python",
   "name": "python",
   "nbconvert_exporter": "python",
   "pygments_lexer": "ipython3",
   "version": "3.7.0"
  }
 },
 "nbformat": 4,
 "nbformat_minor": 2
}
