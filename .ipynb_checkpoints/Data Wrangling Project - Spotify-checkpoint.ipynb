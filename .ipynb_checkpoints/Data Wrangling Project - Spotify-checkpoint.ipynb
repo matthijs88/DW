{
 "cells": [
  {
   "cell_type": "markdown",
   "metadata": {},
   "source": [
    "# Data Wrangling - Spotify Top 200"
   ]
  },
  {
   "cell_type": "markdown",
   "metadata": {},
   "source": [
    "### Introduction\n",
    "In this project we will look at multiple questions regarding the Top 200 Spotify songs. For this we will look at the sentiment of the lyrics and combine this data with other datasets to hopefully derive some interesting conclusions. Every section in this notebok represents a research question regarding this topic.\n",
    "\n",
    "Group members of this project:\n",
    "<ul>\n",
    "    <li>Luuk Kaandorp (2623537)</li>\n",
    "    <li>Lucas de Geus</li>\n",
    "    <li>Ward Pennink</li>\n",
    "    <li>Matthijs Blaauw</li>\n",
    "</ul>"
   ]
  },
  {
   "cell_type": "markdown",
   "metadata": {},
   "source": [
    "### Import\n",
    "This section imports every function and package used in the following sections, please run this before running all others."
   ]
  },
  {
   "cell_type": "code",
   "execution_count": 1,
   "metadata": {},
   "outputs": [
    {
     "name": "stderr",
     "output_type": "stream",
     "text": [
      "[nltk_data] Downloading package vader_lexicon to\n",
      "[nltk_data]     C:\\Users\\lucas\\AppData\\Roaming\\nltk_data...\n",
      "[nltk_data]   Package vader_lexicon is already up-to-date!\n"
     ]
    }
   ],
   "source": [
    "# read neccessary libraries for pandas\n",
    "import numpy as np\n",
    "import pandas as pd\n",
    "import matplotlib.pyplot as plt\n",
    "pd.options.display.max_rows = 20\n",
    "np.set_printoptions(precision = 4, suppress = True)\n",
    "\n",
    "# read neccessary libraries for getting the lyrics\n",
    "import requests\n",
    "from bs4 import BeautifulSoup\n",
    "\n",
    "# read neccessary libraries for sentiment analysis\n",
    "import nltk\n",
    "nltk.download('vader_lexicon')\n",
    "from nltk.sentiment.vader import SentimentIntensityAnalyzer\n",
    "\n",
    "# read neccessary libraries for text pre-processing\n",
    "import string\n",
    "\n",
    "# read neccessary libraries for language detection\n",
    "from langdetect import detect"
   ]
  },
  {
   "cell_type": "markdown",
   "metadata": {},
   "source": [
    "### Q1: Proportion of songs with positive sentiment compared to songs with negative sentiment in the Top 200"
   ]
  },
  {
   "cell_type": "markdown",
   "metadata": {},
   "source": [
    "This question tries to answer whether there are more songs with a positive sentiment in the Top 200 than songs with a negative sentiment. In the code field below we start by getting the weekly Top 200 from the US on Spotify in the week of 09-01-2020 to 16-01-2020."
   ]
  },
  {
   "cell_type": "code",
   "execution_count": 12,
   "metadata": {},
   "outputs": [
    {
     "data": {
      "text/html": [
       "<div>\n",
       "<style scoped>\n",
       "    .dataframe tbody tr th:only-of-type {\n",
       "        vertical-align: middle;\n",
       "    }\n",
       "\n",
       "    .dataframe tbody tr th {\n",
       "        vertical-align: top;\n",
       "    }\n",
       "\n",
       "    .dataframe thead th {\n",
       "        text-align: right;\n",
       "    }\n",
       "</style>\n",
       "<table border=\"1\" class=\"dataframe\">\n",
       "  <thead>\n",
       "    <tr style=\"text-align: right;\">\n",
       "      <th></th>\n",
       "      <th>Position</th>\n",
       "      <th>Track Name</th>\n",
       "      <th>Artist</th>\n",
       "      <th>Streams</th>\n",
       "      <th>URL</th>\n",
       "    </tr>\n",
       "  </thead>\n",
       "  <tbody>\n",
       "    <tr>\n",
       "      <th>0</th>\n",
       "      <td>1</td>\n",
       "      <td>The Box</td>\n",
       "      <td>Roddy Ricch</td>\n",
       "      <td>18952305</td>\n",
       "      <td>https://open.spotify.com/track/0nbXyq5TXYPCO7p...</td>\n",
       "    </tr>\n",
       "    <tr>\n",
       "      <th>1</th>\n",
       "      <td>2</td>\n",
       "      <td>ROXANNE</td>\n",
       "      <td>Arizona Zervas</td>\n",
       "      <td>9671478</td>\n",
       "      <td>https://open.spotify.com/track/696DnlkuDOXcMAn...</td>\n",
       "    </tr>\n",
       "    <tr>\n",
       "      <th>2</th>\n",
       "      <td>3</td>\n",
       "      <td>Yummy</td>\n",
       "      <td>Justin Bieber</td>\n",
       "      <td>9648561</td>\n",
       "      <td>https://open.spotify.com/track/41L3O37CECZt3N7...</td>\n",
       "    </tr>\n",
       "    <tr>\n",
       "      <th>3</th>\n",
       "      <td>4</td>\n",
       "      <td>Circles</td>\n",
       "      <td>Post Malone</td>\n",
       "      <td>8244725</td>\n",
       "      <td>https://open.spotify.com/track/21jGcNKet2qwijl...</td>\n",
       "    </tr>\n",
       "    <tr>\n",
       "      <th>4</th>\n",
       "      <td>5</td>\n",
       "      <td>BOP</td>\n",
       "      <td>DaBaby</td>\n",
       "      <td>7985170</td>\n",
       "      <td>https://open.spotify.com/track/6Ozh9Ok6h4Oi1wU...</td>\n",
       "    </tr>\n",
       "    <tr>\n",
       "      <th>...</th>\n",
       "      <td>...</td>\n",
       "      <td>...</td>\n",
       "      <td>...</td>\n",
       "      <td>...</td>\n",
       "      <td>...</td>\n",
       "    </tr>\n",
       "    <tr>\n",
       "      <th>45</th>\n",
       "      <td>46</td>\n",
       "      <td>Señorita</td>\n",
       "      <td>Shawn Mendes</td>\n",
       "      <td>3289924</td>\n",
       "      <td>https://open.spotify.com/track/6v3KW9xbzN5yKLt...</td>\n",
       "    </tr>\n",
       "    <tr>\n",
       "      <th>46</th>\n",
       "      <td>47</td>\n",
       "      <td>Goodbyes (Feat. Young Thug)</td>\n",
       "      <td>Post Malone</td>\n",
       "      <td>3266958</td>\n",
       "      <td>https://open.spotify.com/track/6vBdBCoOhKHiYDD...</td>\n",
       "    </tr>\n",
       "    <tr>\n",
       "      <th>47</th>\n",
       "      <td>48</td>\n",
       "      <td>No Guidance (feat. Drake)</td>\n",
       "      <td>Chris Brown</td>\n",
       "      <td>3216358</td>\n",
       "      <td>https://open.spotify.com/track/6XHVuErjQ4XNm6n...</td>\n",
       "    </tr>\n",
       "    <tr>\n",
       "      <th>48</th>\n",
       "      <td>49</td>\n",
       "      <td>Death</td>\n",
       "      <td>Trippie Redd</td>\n",
       "      <td>3176458</td>\n",
       "      <td>https://open.spotify.com/track/3Kd6Wp3lG5HXMB2...</td>\n",
       "    </tr>\n",
       "    <tr>\n",
       "      <th>49</th>\n",
       "      <td>50</td>\n",
       "      <td>Start Wit Me (feat. Gunna)</td>\n",
       "      <td>Roddy Ricch</td>\n",
       "      <td>3156095</td>\n",
       "      <td>https://open.spotify.com/track/7A20WnLkjtZU2d7...</td>\n",
       "    </tr>\n",
       "  </tbody>\n",
       "</table>\n",
       "<p>50 rows × 5 columns</p>\n",
       "</div>"
      ],
      "text/plain": [
       "    Position                   Track Name          Artist   Streams  \\\n",
       "0          1                      The Box     Roddy Ricch  18952305   \n",
       "1          2                      ROXANNE  Arizona Zervas   9671478   \n",
       "2          3                        Yummy   Justin Bieber   9648561   \n",
       "3          4                      Circles     Post Malone   8244725   \n",
       "4          5                          BOP          DaBaby   7985170   \n",
       "..       ...                          ...             ...       ...   \n",
       "45        46                     Señorita    Shawn Mendes   3289924   \n",
       "46        47  Goodbyes (Feat. Young Thug)     Post Malone   3266958   \n",
       "47        48    No Guidance (feat. Drake)     Chris Brown   3216358   \n",
       "48        49                        Death    Trippie Redd   3176458   \n",
       "49        50   Start Wit Me (feat. Gunna)     Roddy Ricch   3156095   \n",
       "\n",
       "                                                  URL  \n",
       "0   https://open.spotify.com/track/0nbXyq5TXYPCO7p...  \n",
       "1   https://open.spotify.com/track/696DnlkuDOXcMAn...  \n",
       "2   https://open.spotify.com/track/41L3O37CECZt3N7...  \n",
       "3   https://open.spotify.com/track/21jGcNKet2qwijl...  \n",
       "4   https://open.spotify.com/track/6Ozh9Ok6h4Oi1wU...  \n",
       "..                                                ...  \n",
       "45  https://open.spotify.com/track/6v3KW9xbzN5yKLt...  \n",
       "46  https://open.spotify.com/track/6vBdBCoOhKHiYDD...  \n",
       "47  https://open.spotify.com/track/6XHVuErjQ4XNm6n...  \n",
       "48  https://open.spotify.com/track/3Kd6Wp3lG5HXMB2...  \n",
       "49  https://open.spotify.com/track/7A20WnLkjtZU2d7...  \n",
       "\n",
       "[50 rows x 5 columns]"
      ]
     },
     "execution_count": 12,
     "metadata": {},
     "output_type": "execute_result"
    }
   ],
   "source": [
    "# this reads in the Spotify Top 200 of the US of this week\n",
    "this_weeks_top200_file = \"regional-us-weekly-latest.csv\"\n",
    "this_weeks_top200 = pd.read_csv(this_weeks_top200_file, header=1)\n",
    "this_weeks_top200 = pd.DataFrame(this_weeks_top200.head(50))\n",
    "this_weeks_top200"
   ]
  },
  {
   "cell_type": "markdown",
   "metadata": {},
   "source": [
    "Now we got the songs we need, we need to establish a function which gets the lyrics for the given song. We use the Genius API to get the lyrics. We also need a function which processes the result. The last function we need is the one that scrapes the lyrics from the html page we get from the request. The below code section contains these functions."
   ]
  },
  {
   "cell_type": "code",
   "execution_count": 13,
   "metadata": {},
   "outputs": [
    {
     "data": {
      "text/plain": [
       "'  Chorus Pullin out the coupe at the lot Told em fuck 12 fuck SWAT Bustin all the bales out the box I just hit a lick with the box Had to put the stick in a box mmh Pour up the whole damn seal Ima get lazy I got the mojo deals we been trappin like the 80s She sucked a nigga soul got the Cash App Told em wipe a nigga nose say slatt slatt I wont never sell my soul and I can back that And I really wanna know where you at at  Verse 1 I was out back where the stash at Cruise the city in a bulletproof Cadillac Skrrt Cause I know these niggas after where the bag at Yeah Gotta move smarter gotta move harder Nigga try to get me for my water Ill lay his ass down on my son on my daughter I had the Draco with me Dwayne Carter Lotta niggas out here playin aint ballin I done put my whole arm in the rim Vince Carter Yeah And I know probably get a key for the quarter Shawty barely seen in double Cs I bought em Got a bitch thats looking like Aaliyah she a model I got the pink slip all my whips is keyless Compton Im about to get the key to the city Patek like the sea forget it  Chorus Pullin out the coupe at the lot Told em fuck 12 fuck SWAT Bustin all the bales out the box I just hit a lick with the box Had to put the stick in a box mmh Pour up the whole damn seal Ima get lazy I got the mojo deals we been trappin like the 80s She sucked a nigga soul got the Cash App Told em wipe a nigga nose say slatt slatt I wont never sell my soul and I can back that And I really wanna know where you at at hah  Verse 2 Hahaha I been movin em out If Steelo with me then he got the blues in the pouch Yeah Took her to the forest put the wood in her mouth Bitch dont wear no shoes in my house The private Im flyin in I never wan fly again Ill take my chances in traffic Yeah She suckin on dick no hands with it I just made the Rollie plain like a landing strip Im a 2020 president candidate I done put a hundred bands on Zimmerman shit I been movin real gangster so thats why she picked a Crip Shawty call me Crisco cause I pop my shit Got it out the mud theres nothin you can tell me yeah When I had the drugs I was street wealthy yeah  Chorus Pullin out the coupe at the lot Told em fuck 12 fuck SWAT Bustin all the bales out the box I just hit a lick with the box Had to put the stick in a box mmh Pour up the whole damn seal Ima get lazy I got the mojo deals we been trappin like the 80s She sucked a nigga soul got the Cash App Told em wipe a nigga nose say slatt slatt I wont never sell my soul and I can back that And I really wanna know where you at at  '"
      ]
     },
     "execution_count": 13,
     "metadata": {},
     "output_type": "execute_result"
    }
   ],
   "source": [
    "# this function requests the song info based on the artist and song title\n",
    "def request_song_info(song_title, artist_name):\n",
    "    base_url = 'https://api.genius.com'\n",
    "    headers = {'Authorization': 'Bearer ' + '2wN0egWOzQ-_KQDN4XkblxZoUjG2H_Zl-xq3uXNJhVFNaIkaM0QfvSWM4pm3fWhw'}\n",
    "    search_url = base_url + '/search'\n",
    "    data = {'q': song_title + ' ' + artist_name}\n",
    "    response = requests.get(search_url, data=data, headers=headers)\n",
    "\n",
    "    return response\n",
    "\n",
    "# this function processes the result of the info request\n",
    "def process_request(response, artist_name):\n",
    "    json = response.json()\n",
    "    remote_song_info = None\n",
    "\n",
    "    for hit in json['response']['hits']:\n",
    "        if artist_name.lower() in hit['result']['primary_artist']['name'].lower():\n",
    "            remote_song_info = hit\n",
    "            break\n",
    "            \n",
    "    if remote_song_info:\n",
    "        return remote_song_info['result']['url']\n",
    "    else :\n",
    "        return \"\"\n",
    "    \n",
    "# this function scraps the lyrics from the html page\n",
    "def scrap_lyrics(url):\n",
    "    if url != \"\":\n",
    "        page = requests.get(url)\n",
    "        html = BeautifulSoup(page.text, 'html.parser')\n",
    "        lyrics = html.find('div', class_='lyrics').get_text()\n",
    "        # we detect the language of the lyrics, since the function that comes later in this document can only\n",
    "        # calculate the sentiment of english lyrics we won't process lyrics that are not english\n",
    "        if detect(lyrics) == \"en\":\n",
    "            return process_lyrics(lyrics)\n",
    "    return \"\"\n",
    "# this function pre-processes the lyrics\n",
    "def process_lyrics(lyrics):\n",
    "    # replace enter (\\n) with space\n",
    "    enter_removed = lyrics.replace('\\u2005', ' ').replace('\\n', ' ')\n",
    "    \n",
    "    # remove punctuatin\n",
    "    punctuation_removed = enter_removed.translate(str.maketrans(\"\",\"\", string.punctuation)) \n",
    "    \n",
    "    return punctuation_removed\n",
    "            \n",
    "# TEST\n",
    "test_lyrics = scrap_lyrics(process_request(request_song_info('The Box', 'Roddy Ricch'), 'Roddy Ricch'))\n",
    "test_lyrics"
   ]
  },
  {
   "cell_type": "markdown",
   "metadata": {},
   "source": [
    "Now that we have the correct functions, we can get the lyrics for all the songs in the Top200. All we need now is a function which determines the sentiment of the lyrics. "
   ]
  },
  {
   "cell_type": "code",
   "execution_count": 14,
   "metadata": {},
   "outputs": [
    {
     "data": {
      "text/plain": [
       "{'neg': 0.136, 'neu': 0.79, 'pos': 0.073, 'compound': -0.991}"
      ]
     },
     "execution_count": 14,
     "metadata": {},
     "output_type": "execute_result"
    }
   ],
   "source": [
    "# this function calculates the sentiment of the lyrics\n",
    "def sentiment_of_lyrics(lyrics):\n",
    "    if lyrics != \"\":\n",
    "        sid = SentimentIntensityAnalyzer()\n",
    "        return sid.polarity_scores(lyrics)\n",
    "    else:\n",
    "        return False\n",
    "\n",
    "# TEST\n",
    "sentiment_of_lyrics(test_lyrics)"
   ]
  },
  {
   "cell_type": "markdown",
   "metadata": {},
   "source": [
    "We now have everything we need: the songs, the lyrics and the sentiment processor. In the following section we create the final table containing the songs and their sentiment. Note that creating this table can take up to 10 minutes!"
   ]
  },
  {
   "cell_type": "code",
   "execution_count": 15,
   "metadata": {},
   "outputs": [
    {
     "data": {
      "text/html": [
       "<div>\n",
       "<style scoped>\n",
       "    .dataframe tbody tr th:only-of-type {\n",
       "        vertical-align: middle;\n",
       "    }\n",
       "\n",
       "    .dataframe tbody tr th {\n",
       "        vertical-align: top;\n",
       "    }\n",
       "\n",
       "    .dataframe thead th {\n",
       "        text-align: right;\n",
       "    }\n",
       "</style>\n",
       "<table border=\"1\" class=\"dataframe\">\n",
       "  <thead>\n",
       "    <tr style=\"text-align: right;\">\n",
       "      <th></th>\n",
       "      <th>Position</th>\n",
       "      <th>Track Name</th>\n",
       "      <th>Artist</th>\n",
       "      <th>Streams</th>\n",
       "      <th>URL</th>\n",
       "      <th>neg_sentiment</th>\n",
       "      <th>neu_sentiment</th>\n",
       "      <th>pos_sentiment</th>\n",
       "      <th>compound_sentiment</th>\n",
       "    </tr>\n",
       "  </thead>\n",
       "  <tbody>\n",
       "    <tr>\n",
       "      <th>0</th>\n",
       "      <td>1</td>\n",
       "      <td>The Box</td>\n",
       "      <td>Roddy Ricch</td>\n",
       "      <td>18952305</td>\n",
       "      <td>https://open.spotify.com/track/0nbXyq5TXYPCO7p...</td>\n",
       "      <td>0.136</td>\n",
       "      <td>0.790</td>\n",
       "      <td>0.073</td>\n",
       "      <td>-0.9910</td>\n",
       "    </tr>\n",
       "    <tr>\n",
       "      <th>1</th>\n",
       "      <td>2</td>\n",
       "      <td>ROXANNE</td>\n",
       "      <td>Arizona Zervas</td>\n",
       "      <td>9671478</td>\n",
       "      <td>https://open.spotify.com/track/696DnlkuDOXcMAn...</td>\n",
       "      <td>0.093</td>\n",
       "      <td>0.634</td>\n",
       "      <td>0.273</td>\n",
       "      <td>0.9979</td>\n",
       "    </tr>\n",
       "    <tr>\n",
       "      <th>2</th>\n",
       "      <td>3</td>\n",
       "      <td>Yummy</td>\n",
       "      <td>Justin Bieber</td>\n",
       "      <td>9648561</td>\n",
       "      <td>https://open.spotify.com/track/41L3O37CECZt3N7...</td>\n",
       "      <td>0.023</td>\n",
       "      <td>0.722</td>\n",
       "      <td>0.255</td>\n",
       "      <td>0.9984</td>\n",
       "    </tr>\n",
       "    <tr>\n",
       "      <th>3</th>\n",
       "      <td>4</td>\n",
       "      <td>Circles</td>\n",
       "      <td>Post Malone</td>\n",
       "      <td>8244725</td>\n",
       "      <td>https://open.spotify.com/track/21jGcNKet2qwijl...</td>\n",
       "      <td>0.049</td>\n",
       "      <td>0.846</td>\n",
       "      <td>0.104</td>\n",
       "      <td>0.9630</td>\n",
       "    </tr>\n",
       "    <tr>\n",
       "      <th>4</th>\n",
       "      <td>5</td>\n",
       "      <td>BOP</td>\n",
       "      <td>DaBaby</td>\n",
       "      <td>7985170</td>\n",
       "      <td>https://open.spotify.com/track/6Ozh9Ok6h4Oi1wU...</td>\n",
       "      <td>0.123</td>\n",
       "      <td>0.751</td>\n",
       "      <td>0.126</td>\n",
       "      <td>-0.8024</td>\n",
       "    </tr>\n",
       "    <tr>\n",
       "      <th>...</th>\n",
       "      <td>...</td>\n",
       "      <td>...</td>\n",
       "      <td>...</td>\n",
       "      <td>...</td>\n",
       "      <td>...</td>\n",
       "      <td>...</td>\n",
       "      <td>...</td>\n",
       "      <td>...</td>\n",
       "      <td>...</td>\n",
       "    </tr>\n",
       "    <tr>\n",
       "      <th>45</th>\n",
       "      <td>46</td>\n",
       "      <td>Señorita</td>\n",
       "      <td>Shawn Mendes</td>\n",
       "      <td>3289924</td>\n",
       "      <td>https://open.spotify.com/track/6v3KW9xbzN5yKLt...</td>\n",
       "      <td>0.030</td>\n",
       "      <td>0.744</td>\n",
       "      <td>0.226</td>\n",
       "      <td>0.9979</td>\n",
       "    </tr>\n",
       "    <tr>\n",
       "      <th>46</th>\n",
       "      <td>47</td>\n",
       "      <td>Goodbyes (Feat. Young Thug)</td>\n",
       "      <td>Post Malone</td>\n",
       "      <td>3266958</td>\n",
       "      <td>https://open.spotify.com/track/6vBdBCoOhKHiYDD...</td>\n",
       "      <td>0.000</td>\n",
       "      <td>0.000</td>\n",
       "      <td>0.000</td>\n",
       "      <td>0.0000</td>\n",
       "    </tr>\n",
       "    <tr>\n",
       "      <th>47</th>\n",
       "      <td>48</td>\n",
       "      <td>No Guidance (feat. Drake)</td>\n",
       "      <td>Chris Brown</td>\n",
       "      <td>3216358</td>\n",
       "      <td>https://open.spotify.com/track/6XHVuErjQ4XNm6n...</td>\n",
       "      <td>0.000</td>\n",
       "      <td>0.000</td>\n",
       "      <td>0.000</td>\n",
       "      <td>0.0000</td>\n",
       "    </tr>\n",
       "    <tr>\n",
       "      <th>48</th>\n",
       "      <td>49</td>\n",
       "      <td>Death</td>\n",
       "      <td>Trippie Redd</td>\n",
       "      <td>3176458</td>\n",
       "      <td>https://open.spotify.com/track/3Kd6Wp3lG5HXMB2...</td>\n",
       "      <td>0.221</td>\n",
       "      <td>0.616</td>\n",
       "      <td>0.163</td>\n",
       "      <td>-0.9966</td>\n",
       "    </tr>\n",
       "    <tr>\n",
       "      <th>49</th>\n",
       "      <td>50</td>\n",
       "      <td>Start Wit Me (feat. Gunna)</td>\n",
       "      <td>Roddy Ricch</td>\n",
       "      <td>3156095</td>\n",
       "      <td>https://open.spotify.com/track/7A20WnLkjtZU2d7...</td>\n",
       "      <td>0.155</td>\n",
       "      <td>0.762</td>\n",
       "      <td>0.084</td>\n",
       "      <td>-0.9925</td>\n",
       "    </tr>\n",
       "  </tbody>\n",
       "</table>\n",
       "<p>50 rows × 9 columns</p>\n",
       "</div>"
      ],
      "text/plain": [
       "    Position                   Track Name          Artist   Streams  \\\n",
       "0          1                      The Box     Roddy Ricch  18952305   \n",
       "1          2                      ROXANNE  Arizona Zervas   9671478   \n",
       "2          3                        Yummy   Justin Bieber   9648561   \n",
       "3          4                      Circles     Post Malone   8244725   \n",
       "4          5                          BOP          DaBaby   7985170   \n",
       "..       ...                          ...             ...       ...   \n",
       "45        46                     Señorita    Shawn Mendes   3289924   \n",
       "46        47  Goodbyes (Feat. Young Thug)     Post Malone   3266958   \n",
       "47        48    No Guidance (feat. Drake)     Chris Brown   3216358   \n",
       "48        49                        Death    Trippie Redd   3176458   \n",
       "49        50   Start Wit Me (feat. Gunna)     Roddy Ricch   3156095   \n",
       "\n",
       "                                                  URL  neg_sentiment  \\\n",
       "0   https://open.spotify.com/track/0nbXyq5TXYPCO7p...          0.136   \n",
       "1   https://open.spotify.com/track/696DnlkuDOXcMAn...          0.093   \n",
       "2   https://open.spotify.com/track/41L3O37CECZt3N7...          0.023   \n",
       "3   https://open.spotify.com/track/21jGcNKet2qwijl...          0.049   \n",
       "4   https://open.spotify.com/track/6Ozh9Ok6h4Oi1wU...          0.123   \n",
       "..                                                ...            ...   \n",
       "45  https://open.spotify.com/track/6v3KW9xbzN5yKLt...          0.030   \n",
       "46  https://open.spotify.com/track/6vBdBCoOhKHiYDD...          0.000   \n",
       "47  https://open.spotify.com/track/6XHVuErjQ4XNm6n...          0.000   \n",
       "48  https://open.spotify.com/track/3Kd6Wp3lG5HXMB2...          0.221   \n",
       "49  https://open.spotify.com/track/7A20WnLkjtZU2d7...          0.155   \n",
       "\n",
       "    neu_sentiment  pos_sentiment  compound_sentiment  \n",
       "0           0.790          0.073             -0.9910  \n",
       "1           0.634          0.273              0.9979  \n",
       "2           0.722          0.255              0.9984  \n",
       "3           0.846          0.104              0.9630  \n",
       "4           0.751          0.126             -0.8024  \n",
       "..            ...            ...                 ...  \n",
       "45          0.744          0.226              0.9979  \n",
       "46          0.000          0.000              0.0000  \n",
       "47          0.000          0.000              0.0000  \n",
       "48          0.616          0.163             -0.9966  \n",
       "49          0.762          0.084             -0.9925  \n",
       "\n",
       "[50 rows x 9 columns]"
      ]
     },
     "execution_count": 15,
     "metadata": {},
     "output_type": "execute_result"
    }
   ],
   "source": [
    "# calculate sentiment for all songs in a Top200\n",
    "def sentiment_for_top200(top200):\n",
    "    for index, row in top200.iterrows():\n",
    "        sentiment = sentiment_of_lyrics(scrap_lyrics(process_request(request_song_info(row['Track Name'], row['Artist']), row['Artist'])))\n",
    "        if (sentiment != False):\n",
    "            top200.loc[index,'neg_sentiment'] = sentiment.get('neg')\n",
    "            top200.loc[index,'neu_sentiment'] = sentiment.get('neu')\n",
    "            top200.loc[index,'pos_sentiment'] = sentiment.get('pos')\n",
    "            top200.loc[index,'compound_sentiment'] = sentiment.get('compound')\n",
    "        else:\n",
    "            top200.loc[index,'neg_sentiment'] = 0\n",
    "            top200.loc[index,'neu_sentiment'] = 0\n",
    "            top200.loc[index,'pos_sentiment'] = 0\n",
    "            top200.loc[index,'compound_sentiment'] = 0\n",
    "    return top200\n",
    "\n",
    "processed_this_weeks_top200 = sentiment_for_top200(this_weeks_top200)\n",
    "processed_this_weeks_top200"
   ]
  },
  {
   "cell_type": "markdown",
   "metadata": {},
   "source": [
    "We now have the table containing the top 200 songs on Spotify with their corresponding sentiment based on their lyrics. We will also use this table in further sections. We will now look at the proportion of negative and positive lyrics based on their compound sentiment to answer our question."
   ]
  },
  {
   "cell_type": "code",
   "execution_count": 16,
   "metadata": {},
   "outputs": [
    {
     "name": "stdout",
     "output_type": "stream",
     "text": [
      "Songs with positive sentiment: 24\n",
      "Songs with negative sentiment: 22\n"
     ]
    }
   ],
   "source": [
    "# the number of positive sentiment lyrics\n",
    "this_weeks_compound_sentiment = processed_this_weeks_top200['compound_sentiment']\n",
    "this_weeks_num_positive = this_weeks_compound_sentiment[this_weeks_compound_sentiment > 0.0 ].count()\n",
    "\n",
    "# the number of negative sentiment lyrics\n",
    "this_weeks_num_negative = this_weeks_compound_sentiment[this_weeks_compound_sentiment < 0.0 ].count()\n",
    "\n",
    "print(\"Songs with positive sentiment: \" + str(this_weeks_num_positive))\n",
    "print(\"Songs with negative sentiment: \" + str(this_weeks_num_negative))"
   ]
  },
  {
   "cell_type": "markdown",
   "metadata": {},
   "source": [
    "As you can see from the result, there is only a small difference between the positive and negative sentiment. We consider this difference to be negligable. Therefore we decided to also look at the 2 weeks before this week to see if this holds for multiple weeks or was just coincidence. In the below code field we look at the week before (02-01-2020 to 09-01-2020). Note that creating this table can also take up to 10 minutes!"
   ]
  },
  {
   "cell_type": "code",
   "execution_count": 17,
   "metadata": {},
   "outputs": [
    {
     "name": "stdout",
     "output_type": "stream",
     "text": [
      "Songs with positive sentiment: 23\n",
      "Songs with negative sentiment: 23\n"
     ]
    }
   ],
   "source": [
    "# this reads in the Spotify Top 200 of the US of the week before\n",
    "week_before_top200_file = \"regional-us-weekly-2019-12-27--2020-01-03.csv\"\n",
    "week_before_top200 = pd.DataFrame(pd.read_csv(week_before_top200_file, header=1).head(50))\n",
    "\n",
    "# creates augmented Top200 table with sentiment\n",
    "processed_week_before_top200 = sentiment_for_top200(week_before_top200)\n",
    "\n",
    "# the number of positive sentiment lyrics\n",
    "week_before_compound_sentiment = processed_week_before_top200['compound_sentiment']\n",
    "week_before_num_positive = week_before_compound_sentiment[week_before_compound_sentiment > 0.0 ].count()\n",
    "\n",
    "# the number of negative sentiment lyrics\n",
    "week_before_num_negative = week_before_compound_sentiment[week_before_compound_sentiment < 0.0 ].count()\n",
    "\n",
    "print(\"Songs with positive sentiment: \" + str(week_before_num_positive))\n",
    "print(\"Songs with negative sentiment: \" + str(week_before_num_negative))"
   ]
  },
  {
   "cell_type": "markdown",
   "metadata": {},
   "source": [
    "In the following code field we look at the week 2 weeks before this week (26-12-2019 to 02-01-2020). Note that creating this table can also take up to 10 minutes!"
   ]
  },
  {
   "cell_type": "code",
   "execution_count": 19,
   "metadata": {},
   "outputs": [
    {
     "name": "stdout",
     "output_type": "stream",
     "text": [
      "Songs with positive sentiment: 30\n",
      "Songs with negative sentiment: 15\n"
     ]
    }
   ],
   "source": [
    "# this reads in the Spotify Top 200 of the US of 2 weeks before\n",
    "weeks_2_before_top200_file = \"regional-us-weekly-2019-12-20--2019-12-27.csv\"\n",
    "weeks_2_before_top200 = pd.DataFrame(pd.read_csv(weeks_2_before_top200_file, header=1).head(50))\n",
    "\n",
    "# creates augmented Top200 table with sentiment\n",
    "processed_weeks_2_before_top200 = sentiment_for_top200(weeks_2_before_top200)\n",
    "\n",
    "# the number of positive sentiment lyrics\n",
    "weeks_2_before_compound_sentiment = processed_weeks_2_before_top200['compound_sentiment']\n",
    "weeks_2_before_num_positive = weeks_2_before_compound_sentiment[weeks_2_before_compound_sentiment > 0.0 ].count()\n",
    "\n",
    "# the number of negative sentiment lyrics\n",
    "weeks_2_before_num_negative = weeks_2_before_compound_sentiment[weeks_2_before_compound_sentiment < 0.0 ].count()\n",
    "\n",
    "print(\"Songs with positive sentiment: \" + str(weeks_2_before_num_positive))\n",
    "print(\"Songs with negative sentiment: \" + str(weeks_2_before_num_negative))"
   ]
  },
  {
   "cell_type": "markdown",
   "metadata": {},
   "source": [
    "As you can see, 2 weeks before was around Christmas time and it had a lot more songs in the top 200 with a positive sentiment than songs with negative sentiment. We know from the numbers that the top 200 tends to contain more songs with positive sentiment than songs with negative sentiment. In the next code field we calculate the difference in percentage."
   ]
  },
  {
   "cell_type": "code",
   "execution_count": 20,
   "metadata": {},
   "outputs": [
    {
     "name": "stdout",
     "output_type": "stream",
     "text": [
      "In the last 3 weeks, we see that there are 28.33% more songs with positive sentiment in their lyrics in the Top200 than negative.\n"
     ]
    }
   ],
   "source": [
    "# we calculate the total number of positive and negative songs\n",
    "total_positive_all_weeks = this_weeks_num_positive + week_before_num_positive + weeks_2_before_num_positive\n",
    "total_negative_all_weeks = this_weeks_num_negative + week_before_num_negative + weeks_2_before_num_negative\n",
    "\n",
    "# we calculate the difference between positive and negative songs in percentage\n",
    "difference = ((total_positive_all_weeks - total_negative_all_weeks) / total_negative_all_weeks) * 100\n",
    "print(\"In the last 3 weeks, we see that there are \" + str(round(difference, 2)) + \"% more songs with positive sentiment in their lyrics in the Top200 than negative.\")"
   ]
  },
  {
   "cell_type": "markdown",
   "metadata": {},
   "source": [
    "Our conclusion is that it seems like there are not notably more songs with a positive sentiment than ones with negative sentiments in 'normal' weeks without holidays based on the last 3 weeks. We saw that the week around Christmas was an exception to this conclusion and therefore we investigate this further in the following section"
   ]
  },
  {
   "cell_type": "markdown",
   "metadata": {},
   "source": [
    "### Q2: Influence of holidays on the sentiment listened to"
   ]
  },
  {
   "cell_type": "markdown",
   "metadata": {},
   "source": [
    "This question tries to answer whether people tend to listen more to songs with a positive sentiment than songs with a negative sentiment during weeks around holidays. For this question we will look at the 2 weeks around the holidays Christmas, Easter and Thanksgiving. "
   ]
  }
 ],
 "metadata": {
  "kernelspec": {
   "display_name": "Python 3",
   "language": "python",
   "name": "python3"
  },
  "language_info": {
   "codemirror_mode": {
    "name": "ipython",
    "version": 3
   },
   "file_extension": ".py",
   "mimetype": "text/x-python",
   "name": "python",
   "nbconvert_exporter": "python",
   "pygments_lexer": "ipython3",
   "version": "3.7.0"
  }
 },
 "nbformat": 4,
 "nbformat_minor": 2
}
